{
 "cells": [
  {
   "cell_type": "code",
   "execution_count": 4,
   "id": "087a9447",
   "metadata": {},
   "outputs": [
    {
     "name": "stdout",
     "output_type": "stream",
     "text": [
      "Ok\n"
     ]
    }
   ],
   "source": [
    "print(\"Ok\")"
   ]
  },
  {
   "cell_type": "code",
   "execution_count": 5,
   "id": "17af70e3",
   "metadata": {},
   "outputs": [
    {
     "data": {
      "text/plain": [
       "'/Users/ahmmedalzubaeranam/Desktop/langgol/langgol/research'"
      ]
     },
     "execution_count": 5,
     "metadata": {},
     "output_type": "execute_result"
    }
   ],
   "source": [
    "%pwd"
   ]
  },
  {
   "cell_type": "code",
   "execution_count": 6,
   "id": "611f392b",
   "metadata": {},
   "outputs": [],
   "source": [
    "import os\n",
    "os.chdir(\"../\")"
   ]
  },
  {
   "cell_type": "code",
   "execution_count": 7,
   "id": "1e26f12c",
   "metadata": {},
   "outputs": [
    {
     "data": {
      "text/plain": [
       "'/Users/ahmmedalzubaeranam/Desktop/langgol/langgol'"
      ]
     },
     "execution_count": 7,
     "metadata": {},
     "output_type": "execute_result"
    }
   ],
   "source": [
    "%pwd"
   ]
  },
  {
   "cell_type": "code",
   "execution_count": 8,
   "id": "d2bc7e1f",
   "metadata": {},
   "outputs": [],
   "source": [
    "from langchain.document_loaders import PyPDFLoader, DirectoryLoader\n",
    "from langchain.text_splitter import RecursiveCharacterTextSplitter"
   ]
  },
  {
   "cell_type": "code",
   "execution_count": 9,
   "id": "a4e2b42f",
   "metadata": {},
   "outputs": [],
   "source": [
    "def load_pdf_file(data):\n",
    "    loader = DirectoryLoader(\n",
    "        data, glob=\"*pdf\",loader_cls=PyPDFLoader\n",
    "    )\n",
    "    documents = loader.load()\n",
    "\n",
    "    return documents"
   ]
  },
  {
   "cell_type": "code",
   "execution_count": 10,
   "id": "f41a445f",
   "metadata": {},
   "outputs": [],
   "source": [
    "extracted_data = load_pdf_file(data='Data/')"
   ]
  },
  {
   "cell_type": "code",
   "execution_count": 11,
   "id": "ad4fce1b",
   "metadata": {},
   "outputs": [],
   "source": [
    "def text_split(extracted_data):\n",
    "    text_splitter = RecursiveCharacterTextSplitter(chunk_size=500, chunk_overlap=20)\n",
    "    text_chunks = text_splitter.split_documents(extracted_data)\n",
    "    return text_chunks"
   ]
  },
  {
   "cell_type": "code",
   "execution_count": 12,
   "id": "4a8c4b55",
   "metadata": {},
   "outputs": [
    {
     "name": "stdout",
     "output_type": "stream",
     "text": [
      "15675\n"
     ]
    }
   ],
   "source": [
    "text_chunks =text_split(extracted_data)\n",
    "print(len(text_chunks))"
   ]
  },
  {
   "cell_type": "code",
   "execution_count": 13,
   "id": "9b4841dd",
   "metadata": {},
   "outputs": [
    {
     "name": "stdout",
     "output_type": "stream",
     "text": [
      "Requirement already satisfied: langchain-huggingface in /opt/miniconda3/envs/langgolbot/lib/python3.10/site-packages (0.2.0)\n",
      "Requirement already satisfied: langchain-core<1.0.0,>=0.3.59 in /opt/miniconda3/envs/langgolbot/lib/python3.10/site-packages (from langchain-huggingface) (0.3.63)\n",
      "Requirement already satisfied: tokenizers>=0.19.1 in /opt/miniconda3/envs/langgolbot/lib/python3.10/site-packages (from langchain-huggingface) (0.21.1)\n",
      "Requirement already satisfied: transformers>=4.39.0 in /opt/miniconda3/envs/langgolbot/lib/python3.10/site-packages (from langchain-huggingface) (4.52.4)\n",
      "Requirement already satisfied: sentence-transformers>=2.6.0 in /opt/miniconda3/envs/langgolbot/lib/python3.10/site-packages (from langchain-huggingface) (4.1.0)\n",
      "Requirement already satisfied: huggingface-hub>=0.30.2 in /opt/miniconda3/envs/langgolbot/lib/python3.10/site-packages (from langchain-huggingface) (0.32.3)\n",
      "Requirement already satisfied: langsmith<0.4,>=0.1.126 in /opt/miniconda3/envs/langgolbot/lib/python3.10/site-packages (from langchain-core<1.0.0,>=0.3.59->langchain-huggingface) (0.3.43)\n",
      "Requirement already satisfied: tenacity!=8.4.0,<10.0.0,>=8.1.0 in /opt/miniconda3/envs/langgolbot/lib/python3.10/site-packages (from langchain-core<1.0.0,>=0.3.59->langchain-huggingface) (9.1.2)\n",
      "Requirement already satisfied: jsonpatch<2.0,>=1.33 in /opt/miniconda3/envs/langgolbot/lib/python3.10/site-packages (from langchain-core<1.0.0,>=0.3.59->langchain-huggingface) (1.33)\n",
      "Requirement already satisfied: PyYAML>=5.3 in /opt/miniconda3/envs/langgolbot/lib/python3.10/site-packages (from langchain-core<1.0.0,>=0.3.59->langchain-huggingface) (6.0.2)\n",
      "Requirement already satisfied: packaging<25,>=23.2 in /opt/miniconda3/envs/langgolbot/lib/python3.10/site-packages (from langchain-core<1.0.0,>=0.3.59->langchain-huggingface) (24.2)\n",
      "Requirement already satisfied: typing-extensions>=4.7 in /opt/miniconda3/envs/langgolbot/lib/python3.10/site-packages (from langchain-core<1.0.0,>=0.3.59->langchain-huggingface) (4.13.2)\n",
      "Requirement already satisfied: pydantic>=2.7.4 in /opt/miniconda3/envs/langgolbot/lib/python3.10/site-packages (from langchain-core<1.0.0,>=0.3.59->langchain-huggingface) (2.11.5)\n",
      "Requirement already satisfied: jsonpointer>=1.9 in /opt/miniconda3/envs/langgolbot/lib/python3.10/site-packages (from jsonpatch<2.0,>=1.33->langchain-core<1.0.0,>=0.3.59->langchain-huggingface) (3.0.0)\n",
      "Requirement already satisfied: httpx<1,>=0.23.0 in /opt/miniconda3/envs/langgolbot/lib/python3.10/site-packages (from langsmith<0.4,>=0.1.126->langchain-core<1.0.0,>=0.3.59->langchain-huggingface) (0.28.1)\n",
      "Requirement already satisfied: orjson<4.0.0,>=3.9.14 in /opt/miniconda3/envs/langgolbot/lib/python3.10/site-packages (from langsmith<0.4,>=0.1.126->langchain-core<1.0.0,>=0.3.59->langchain-huggingface) (3.10.18)\n",
      "Requirement already satisfied: requests<3,>=2 in /opt/miniconda3/envs/langgolbot/lib/python3.10/site-packages (from langsmith<0.4,>=0.1.126->langchain-core<1.0.0,>=0.3.59->langchain-huggingface) (2.32.3)\n",
      "Requirement already satisfied: requests-toolbelt<2.0.0,>=1.0.0 in /opt/miniconda3/envs/langgolbot/lib/python3.10/site-packages (from langsmith<0.4,>=0.1.126->langchain-core<1.0.0,>=0.3.59->langchain-huggingface) (1.0.0)\n",
      "Requirement already satisfied: zstandard<0.24.0,>=0.23.0 in /opt/miniconda3/envs/langgolbot/lib/python3.10/site-packages (from langsmith<0.4,>=0.1.126->langchain-core<1.0.0,>=0.3.59->langchain-huggingface) (0.23.0)\n",
      "Requirement already satisfied: anyio in /opt/miniconda3/envs/langgolbot/lib/python3.10/site-packages (from httpx<1,>=0.23.0->langsmith<0.4,>=0.1.126->langchain-core<1.0.0,>=0.3.59->langchain-huggingface) (4.9.0)\n",
      "Requirement already satisfied: certifi in /opt/miniconda3/envs/langgolbot/lib/python3.10/site-packages (from httpx<1,>=0.23.0->langsmith<0.4,>=0.1.126->langchain-core<1.0.0,>=0.3.59->langchain-huggingface) (2025.4.26)\n",
      "Requirement already satisfied: httpcore==1.* in /opt/miniconda3/envs/langgolbot/lib/python3.10/site-packages (from httpx<1,>=0.23.0->langsmith<0.4,>=0.1.126->langchain-core<1.0.0,>=0.3.59->langchain-huggingface) (1.0.9)\n",
      "Requirement already satisfied: idna in /opt/miniconda3/envs/langgolbot/lib/python3.10/site-packages (from httpx<1,>=0.23.0->langsmith<0.4,>=0.1.126->langchain-core<1.0.0,>=0.3.59->langchain-huggingface) (3.10)\n",
      "Requirement already satisfied: h11>=0.16 in /opt/miniconda3/envs/langgolbot/lib/python3.10/site-packages (from httpcore==1.*->httpx<1,>=0.23.0->langsmith<0.4,>=0.1.126->langchain-core<1.0.0,>=0.3.59->langchain-huggingface) (0.16.0)\n",
      "Requirement already satisfied: annotated-types>=0.6.0 in /opt/miniconda3/envs/langgolbot/lib/python3.10/site-packages (from pydantic>=2.7.4->langchain-core<1.0.0,>=0.3.59->langchain-huggingface) (0.7.0)\n",
      "Requirement already satisfied: pydantic-core==2.33.2 in /opt/miniconda3/envs/langgolbot/lib/python3.10/site-packages (from pydantic>=2.7.4->langchain-core<1.0.0,>=0.3.59->langchain-huggingface) (2.33.2)\n",
      "Requirement already satisfied: typing-inspection>=0.4.0 in /opt/miniconda3/envs/langgolbot/lib/python3.10/site-packages (from pydantic>=2.7.4->langchain-core<1.0.0,>=0.3.59->langchain-huggingface) (0.4.1)\n",
      "Requirement already satisfied: charset-normalizer<4,>=2 in /opt/miniconda3/envs/langgolbot/lib/python3.10/site-packages (from requests<3,>=2->langsmith<0.4,>=0.1.126->langchain-core<1.0.0,>=0.3.59->langchain-huggingface) (3.4.2)\n",
      "Requirement already satisfied: urllib3<3,>=1.21.1 in /opt/miniconda3/envs/langgolbot/lib/python3.10/site-packages (from requests<3,>=2->langsmith<0.4,>=0.1.126->langchain-core<1.0.0,>=0.3.59->langchain-huggingface) (2.4.0)\n",
      "Requirement already satisfied: filelock in /opt/miniconda3/envs/langgolbot/lib/python3.10/site-packages (from huggingface-hub>=0.30.2->langchain-huggingface) (3.18.0)\n",
      "Requirement already satisfied: fsspec>=2023.5.0 in /opt/miniconda3/envs/langgolbot/lib/python3.10/site-packages (from huggingface-hub>=0.30.2->langchain-huggingface) (2025.5.1)\n",
      "Requirement already satisfied: tqdm>=4.42.1 in /opt/miniconda3/envs/langgolbot/lib/python3.10/site-packages (from huggingface-hub>=0.30.2->langchain-huggingface) (4.67.1)\n",
      "Requirement already satisfied: hf-xet<2.0.0,>=1.1.2 in /opt/miniconda3/envs/langgolbot/lib/python3.10/site-packages (from huggingface-hub>=0.30.2->langchain-huggingface) (1.1.2)\n",
      "Requirement already satisfied: torch>=1.11.0 in /opt/miniconda3/envs/langgolbot/lib/python3.10/site-packages (from sentence-transformers>=2.6.0->langchain-huggingface) (2.2.2)\n",
      "Requirement already satisfied: scikit-learn in /opt/miniconda3/envs/langgolbot/lib/python3.10/site-packages (from sentence-transformers>=2.6.0->langchain-huggingface) (1.6.1)\n",
      "Requirement already satisfied: scipy in /opt/miniconda3/envs/langgolbot/lib/python3.10/site-packages (from sentence-transformers>=2.6.0->langchain-huggingface) (1.15.3)\n",
      "Requirement already satisfied: Pillow in /opt/miniconda3/envs/langgolbot/lib/python3.10/site-packages (from sentence-transformers>=2.6.0->langchain-huggingface) (11.2.1)\n",
      "Requirement already satisfied: numpy>=1.17 in /opt/miniconda3/envs/langgolbot/lib/python3.10/site-packages (from transformers>=4.39.0->langchain-huggingface) (1.26.4)\n",
      "Requirement already satisfied: regex!=2019.12.17 in /opt/miniconda3/envs/langgolbot/lib/python3.10/site-packages (from transformers>=4.39.0->langchain-huggingface) (2024.11.6)\n",
      "Requirement already satisfied: safetensors>=0.4.3 in /opt/miniconda3/envs/langgolbot/lib/python3.10/site-packages (from transformers>=4.39.0->langchain-huggingface) (0.5.3)\n",
      "Requirement already satisfied: sympy in /opt/miniconda3/envs/langgolbot/lib/python3.10/site-packages (from torch>=1.11.0->sentence-transformers>=2.6.0->langchain-huggingface) (1.14.0)\n",
      "Requirement already satisfied: networkx in /opt/miniconda3/envs/langgolbot/lib/python3.10/site-packages (from torch>=1.11.0->sentence-transformers>=2.6.0->langchain-huggingface) (3.4.2)\n",
      "Requirement already satisfied: jinja2 in /opt/miniconda3/envs/langgolbot/lib/python3.10/site-packages (from torch>=1.11.0->sentence-transformers>=2.6.0->langchain-huggingface) (3.1.6)\n",
      "Requirement already satisfied: exceptiongroup>=1.0.2 in /opt/miniconda3/envs/langgolbot/lib/python3.10/site-packages (from anyio->httpx<1,>=0.23.0->langsmith<0.4,>=0.1.126->langchain-core<1.0.0,>=0.3.59->langchain-huggingface) (1.3.0)\n",
      "Requirement already satisfied: sniffio>=1.1 in /opt/miniconda3/envs/langgolbot/lib/python3.10/site-packages (from anyio->httpx<1,>=0.23.0->langsmith<0.4,>=0.1.126->langchain-core<1.0.0,>=0.3.59->langchain-huggingface) (1.3.1)\n",
      "Requirement already satisfied: MarkupSafe>=2.0 in /opt/miniconda3/envs/langgolbot/lib/python3.10/site-packages (from jinja2->torch>=1.11.0->sentence-transformers>=2.6.0->langchain-huggingface) (3.0.2)\n",
      "Requirement already satisfied: joblib>=1.2.0 in /opt/miniconda3/envs/langgolbot/lib/python3.10/site-packages (from scikit-learn->sentence-transformers>=2.6.0->langchain-huggingface) (1.5.1)\n",
      "Requirement already satisfied: threadpoolctl>=3.1.0 in /opt/miniconda3/envs/langgolbot/lib/python3.10/site-packages (from scikit-learn->sentence-transformers>=2.6.0->langchain-huggingface) (3.6.0)\n",
      "Requirement already satisfied: mpmath<1.4,>=1.1.0 in /opt/miniconda3/envs/langgolbot/lib/python3.10/site-packages (from sympy->torch>=1.11.0->sentence-transformers>=2.6.0->langchain-huggingface) (1.3.0)\n",
      "Note: you may need to restart the kernel to use updated packages.\n"
     ]
    }
   ],
   "source": [
    "%pip install langchain-huggingface\n",
    "\n",
    "from langchain_huggingface import HuggingFaceEmbeddings"
   ]
  },
  {
   "cell_type": "code",
   "execution_count": 16,
   "id": "28ea2d1c",
   "metadata": {},
   "outputs": [],
   "source": [
    "def download_hugging_face_embeddings():\n",
    "    embeddings = HuggingFaceEmbeddings(model_name='all-MiniLM-L6-v2')\n",
    "    return embeddings"
   ]
  },
  {
   "cell_type": "code",
   "execution_count": 17,
   "id": "42837a39",
   "metadata": {},
   "outputs": [],
   "source": [
    "embeddings = download_hugging_face_embeddings()"
   ]
  },
  {
   "cell_type": "code",
   "execution_count": 18,
   "id": "f3f03bd6",
   "metadata": {},
   "outputs": [
    {
     "name": "stdout",
     "output_type": "stream",
     "text": [
      "[0.08204813301563263, 0.036055516451597214, -0.003892910201102495, -0.004881072789430618, 0.025651145726442337, -0.05714349076151848, 0.01219157874584198, 0.0046789376065135, 0.034949854016304016, -0.022421907633543015, -0.008005235344171524, -0.10935360193252563, 0.022724708542227745, -0.02932080626487732, -0.04352203384041786, -0.12024124711751938, -0.000848596915602684, -0.01815016008913517, 0.05612955987453461, 0.003085220931097865, 0.0023363514337688684, -0.01683923602104187, 0.06362468004226685, -0.023660266771912575, 0.031493548303842545, -0.03479800745844841, -0.02054879255592823, -0.002791038015857339, -0.011038021184504032, -0.03612671419978142, 0.05414106324315071, -0.036617130041122437, -0.025008661672472954, -0.03817034512758255, -0.04960362985730171, -0.015148133039474487, 0.02131502330303192, -0.01274047140032053, 0.07670095562934875, 0.04435575753450394, -0.010834869928658009, -0.029759954661130905, -0.01697046123445034, -0.024691861122846603, 0.008087094873189926, 0.04358769953250885, 0.007177499122917652, 0.07550130784511566, 0.03280666470527649, -0.06204644963145256, 0.06677896529436111, 0.027091359719634056, -0.04568948596715927, -0.031441159546375275, -0.03115527145564556, 0.09153681993484497, -0.0017881945241242647, -0.011282616294920444, 0.036499276757240295, 0.056927137076854706, 0.0023000116925686598, -0.03775056079030037, -0.015484669245779514, 0.052391454577445984, 0.060364387929439545, -0.016648322343826294, 0.008809948340058327, -0.006622243206948042, -0.10629706084728241, 0.0017159132985398173, -0.04830583930015564, -0.02976871281862259, 0.004325528163462877, -0.08567408472299576, 0.06620791554450989, -0.05518358573317528, -0.11332664638757706, 0.05084017664194107, -0.00931723602116108, 0.006006711162626743, 0.021012697368860245, -0.02251543290913105, 0.00047275525867007673, 0.05638975650072098, 0.04544348642230034, -0.005277515389025211, 0.09359361976385117, 0.0274602510035038, 0.02944193407893181, -0.045696649700403214, -0.048944324254989624, 0.0013615172356367111, -0.012853391468524933, 0.07980718463659286, -0.11903545260429382, 0.06876884400844574, -0.02271830104291439, 0.04485701024532318, -0.0812920406460762, 0.04405772313475609, 0.0029563363641500473, 0.01762094534933567, 0.08311302214860916, -0.018054990097880363, -0.047923579812049866, 0.05866710841655731, 0.006246468517929316, -0.01465681567788124, -0.007337210234254599, -0.07807915657758713, -0.10076918452978134, -0.033526673913002014, -0.0009018632117658854, -0.051131170243024826, 0.02722172439098358, 0.07086151838302612, 0.047401707619428635, -0.10456680506467819, 0.004401133395731449, -0.028793761506676674, -0.018355803564190865, -0.05058594420552254, -0.03154183551669121, -0.00951770506799221, -0.06064469367265701, 0.021163932979106903, -0.046602219343185425, -7.755119002722617e-33, -0.031296249479055405, 0.05634504184126854, 0.07738033682107925, 0.06391442567110062, -0.046647172421216965, -0.00757047813385725, -0.0553264319896698, 0.040277548134326935, -0.0315239317715168, -0.007102923933416605, 0.03959233686327934, -0.1317119598388672, -0.0661451667547226, 0.021774938330054283, 0.09698940813541412, 0.011799219995737076, 0.08900416642427444, 0.034685902297496796, -0.04387176036834717, -0.00016679403779562563, 0.014680879190564156, -0.002709359396249056, -0.0033176082652062178, 0.01740000583231449, 0.060105204582214355, 0.039495211094617844, -0.00173272960819304, 0.07728356122970581, 0.014559642411768436, -0.002193321706727147, -0.0018453620141372085, 0.015014758333563805, 0.021672898903489113, 0.007331354543566704, 0.01799951121211052, 0.0497441403567791, 0.012588230893015862, -0.0026321879122406244, 0.04346172511577606, 0.06297490745782852, 0.06660725921392441, -0.03639740124344826, -0.03872957080602646, 0.04401262104511261, 0.0056434632278978825, 0.0056925686076283455, -0.034878455102443695, -0.07138054817914963, 0.10089904814958572, -0.024756260216236115, 0.014684407040476799, -0.025919601321220398, -0.07273467630147934, -0.017434239387512207, 0.026018913835287094, 0.11413377523422241, -0.07092969119548798, 0.018040644004940987, -0.003364564385265112, 0.008468245156109333, -0.0031982711516320705, 0.005925307050347328, -0.022993482649326324, 0.07761330157518387, 0.034725937992334366, 0.0873919203877449, 0.04626103863120079, 0.018758665770292282, 0.011047537438571453, -0.04582417756319046, -0.04647436365485191, 0.026539403945207596, 0.07402205467224121, 0.06560052931308746, 0.06272170692682266, 0.07237667590379715, -0.008960564620792866, -0.03532486408948898, -0.005384564865380526, -0.0032188964542001486, -0.038025546818971634, -0.041364699602127075, -0.09670209884643555, 0.04421921446919441, -0.03350629657506943, -0.07136603444814682, -0.011642836034297943, -0.007111146580427885, 0.0006454308168031275, -0.0883803442120552, -0.11334279924631119, -0.12120426446199417, -0.0013211006298661232, -0.04424311965703964, -0.08665940910577774, 3.9976887792016076e-33, 0.025276146829128265, -0.002635005861520767, -0.0811299979686737, 0.025461889803409576, 0.0013292499352246523, 0.01603802479803562, 0.09549150615930557, 0.033217038959264755, -0.012048915959894657, 0.016985595226287842, -0.08307892829179764, -0.12452160567045212, 0.04390956833958626, 0.01215109322220087, 0.06574590504169464, 0.10052962601184845, 0.07295698672533035, -0.026920240372419357, -0.032184798270463943, -0.05346691980957985, -0.12637238204479218, 0.005398060195147991, -0.035390909761190414, -0.0042800032533705235, -0.025039440020918846, 0.041625600308179855, -0.09993342310190201, -0.047652728855609894, -0.02397603541612625, 0.0026397553738206625, -0.055191002786159515, 0.013548453338444233, 0.04904063791036606, 0.08499684929847717, -0.04202461987733841, 0.07673397660255432, 0.03321309760212898, 0.0012652995064854622, 0.03999504819512367, 0.06455174833536148, -0.04337265342473984, -0.049650486558675766, 0.05795811489224434, 0.1126786544919014, 0.0706990510225296, 0.008226470090448856, 0.04381541162729263, -0.02252790331840515, -0.007248708046972752, 0.049857765436172485, 0.03860495612025261, 0.067911796271801, -0.041069984436035156, 0.0057322136126458645, 0.017908034846186638, 0.04930577054619789, -0.05145525559782982, 0.05103081092238426, -0.0938098356127739, -0.06816750764846802, 0.0652628168463707, 0.0754573866724968, -0.016841856762766838, 0.06612510979175568, -0.0028971503488719463, -0.02073817513883114, -0.1270085722208023, 0.06160477548837662, -0.009813151322305202, -0.01470614317804575, 0.13544602692127228, 0.034136876463890076, -0.06481856107711792, 0.051017072051763535, -0.06637553870677948, 0.029188252985477448, 0.07939156889915466, 0.01444028690457344, -0.02730998955667019, 0.005267051979899406, -0.06761955469846725, -0.02049449272453785, -0.027144737541675568, -0.026149801909923553, -0.07054667919874191, 0.03471790626645088, 0.007612517103552818, -0.10216669738292694, 0.05842781439423561, -0.07478600740432739, -0.021968020126223564, -0.0068086665123701096, -0.051303327083587646, -0.036969881504774094, 0.025690190494060516, -1.7501513127626822e-08, 0.06809660792350769, 0.04500090330839157, -0.044086333364248276, 0.012878715991973877, -0.05775945261120796, -0.09547638148069382, 0.06219948083162308, -0.004272647202014923, -0.00867018848657608, 0.0002549240889493376, -0.07361151278018951, 0.056062184274196625, -0.06970254331827164, -0.05111625790596008, -0.04102281108498573, -0.004761008080095053, -0.03246322646737099, 0.04304736480116844, 0.00868319347500801, 0.022707847878336906, -0.00490533234551549, 0.023357989266514778, -0.045639440417289734, -0.058103352785110474, 0.012541485950350761, -0.09903232008218765, 0.04062921181321144, 0.04566892981529236, 0.002715890761464834, -0.005313000176101923, 0.0664028748869896, -0.027287576347589493, -0.05007481947541237, -0.0902949720621109, -0.03612226992845535, 0.012680120766162872, -0.005830485839396715, -0.005093284882605076, 0.009507509879767895, -0.02905244007706642, 0.09497950226068497, 0.06199072673916817, 0.012536667287349701, -0.011961059644818306, 0.024525675922632217, 0.045382995158433914, 0.05382112041115761, -0.03517720103263855, 0.11464711278676987, -0.08902028203010559, -0.11148515343666077, 0.09941159188747406, 0.003938867710530758, 0.004478384740650654, 0.0034466064535081387, 0.07089649885892868, -0.051293641328811646, -0.012674187310039997, 0.021874727681279182, -0.020011940971016884, -0.014911315403878689, 0.04920435696840286, 0.08929189294576645, -0.011127748526632786]\n"
     ]
    }
   ],
   "source": [
    "query_results = embeddings.embed_query(\"What is the capital of France?\")\n",
    "print(query_results)"
   ]
  },
  {
   "cell_type": "code",
   "execution_count": 35,
   "id": "b7625f21",
   "metadata": {},
   "outputs": [
    {
     "data": {
      "text/plain": [
       "True"
      ]
     },
     "execution_count": 35,
     "metadata": {},
     "output_type": "execute_result"
    }
   ],
   "source": [
    "from dotenv import load_dotenv\n",
    "load_dotenv()"
   ]
  },
  {
   "cell_type": "code",
   "execution_count": 36,
   "id": "77c59969",
   "metadata": {},
   "outputs": [],
   "source": [
    "PINECONE_API_KEY = os.getenv(\"PINECONE_API_KEY\")\n",
    "OPENAI_API_KEY = os.getenv(\"OPENAI_API_KEY\")"
   ]
  },
  {
   "cell_type": "code",
   "execution_count": 21,
   "id": "535408f6",
   "metadata": {},
   "outputs": [
    {
     "name": "stderr",
     "output_type": "stream",
     "text": [
      "huggingface/tokenizers: The current process just got forked, after parallelism has already been used. Disabling parallelism to avoid deadlocks...\n",
      "To disable this warning, you can either:\n",
      "\t- Avoid using `tokenizers` before the fork if possible\n",
      "\t- Explicitly set the environment variable TOKENIZERS_PARALLELISM=(true | false)\n"
     ]
    },
    {
     "name": "stdout",
     "output_type": "stream",
     "text": [
      "Requirement already satisfied: pinecone in /opt/miniconda3/envs/langgolbot/lib/python3.10/site-packages (7.0.2)\n",
      "Requirement already satisfied: certifi>=2019.11.17 in /opt/miniconda3/envs/langgolbot/lib/python3.10/site-packages (from pinecone) (2025.4.26)\n",
      "Requirement already satisfied: pinecone-plugin-assistant<2.0.0,>=1.6.0 in /opt/miniconda3/envs/langgolbot/lib/python3.10/site-packages (from pinecone) (1.6.1)\n",
      "Requirement already satisfied: pinecone-plugin-interface<0.0.8,>=0.0.7 in /opt/miniconda3/envs/langgolbot/lib/python3.10/site-packages (from pinecone) (0.0.7)\n",
      "Requirement already satisfied: python-dateutil>=2.5.3 in /opt/miniconda3/envs/langgolbot/lib/python3.10/site-packages (from pinecone) (2.9.0.post0)\n",
      "Requirement already satisfied: typing-extensions>=3.7.4 in /opt/miniconda3/envs/langgolbot/lib/python3.10/site-packages (from pinecone) (4.13.2)\n",
      "Requirement already satisfied: urllib3>=1.26.0 in /opt/miniconda3/envs/langgolbot/lib/python3.10/site-packages (from pinecone) (2.4.0)\n",
      "Requirement already satisfied: packaging<25.0,>=24.2 in /opt/miniconda3/envs/langgolbot/lib/python3.10/site-packages (from pinecone-plugin-assistant<2.0.0,>=1.6.0->pinecone) (24.2)\n",
      "Requirement already satisfied: requests<3.0.0,>=2.32.3 in /opt/miniconda3/envs/langgolbot/lib/python3.10/site-packages (from pinecone-plugin-assistant<2.0.0,>=1.6.0->pinecone) (2.32.3)\n",
      "Requirement already satisfied: charset-normalizer<4,>=2 in /opt/miniconda3/envs/langgolbot/lib/python3.10/site-packages (from requests<3.0.0,>=2.32.3->pinecone-plugin-assistant<2.0.0,>=1.6.0->pinecone) (3.4.2)\n",
      "Requirement already satisfied: idna<4,>=2.5 in /opt/miniconda3/envs/langgolbot/lib/python3.10/site-packages (from requests<3.0.0,>=2.32.3->pinecone-plugin-assistant<2.0.0,>=1.6.0->pinecone) (3.10)\n",
      "Requirement already satisfied: six>=1.5 in /opt/miniconda3/envs/langgolbot/lib/python3.10/site-packages (from python-dateutil>=2.5.3->pinecone) (1.17.0)\n",
      "Note: you may need to restart the kernel to use updated packages.\n"
     ]
    }
   ],
   "source": [
    "pip install pinecone"
   ]
  },
  {
   "cell_type": "code",
   "execution_count": 22,
   "id": "bcae99a0",
   "metadata": {},
   "outputs": [
    {
     "data": {
      "text/plain": [
       "{\n",
       "    \"name\": \"langgol\",\n",
       "    \"metric\": \"cosine\",\n",
       "    \"host\": \"langgol-zu2px5p.svc.aped-4627-b74a.pinecone.io\",\n",
       "    \"spec\": {\n",
       "        \"serverless\": {\n",
       "            \"cloud\": \"aws\",\n",
       "            \"region\": \"us-east-1\"\n",
       "        }\n",
       "    },\n",
       "    \"status\": {\n",
       "        \"ready\": true,\n",
       "        \"state\": \"Ready\"\n",
       "    },\n",
       "    \"vector_type\": \"dense\",\n",
       "    \"dimension\": 384,\n",
       "    \"deletion_protection\": \"disabled\",\n",
       "    \"tags\": null\n",
       "}"
      ]
     },
     "execution_count": 22,
     "metadata": {},
     "output_type": "execute_result"
    }
   ],
   "source": [
    "from pinecone.grpc import PineconeGRPC as Pinecone\n",
    "from pinecone import ServerlessSpec\n",
    "import os\n",
    "\n",
    "pc = Pinecone(api_key=PINECONE_API_KEY)\n",
    "\n",
    "index_name = \"langgol\"\n",
    "\n",
    "\n",
    "pc.create_index(\n",
    "    name=index_name,\n",
    "    dimension=384, \n",
    "    metric=\"cosine\", \n",
    "    spec=ServerlessSpec(\n",
    "        cloud=\"aws\", \n",
    "        region=\"us-east-1\"\n",
    "    ) \n",
    ") "
   ]
  },
  {
   "cell_type": "code",
   "execution_count": 37,
   "id": "dc754f88",
   "metadata": {},
   "outputs": [],
   "source": [
    "import os\n",
    "os.environ[\"PINECONE_API_KEY\"] = PINECONE_API_KEY\n",
    "os.environ[\"OPENAI_API_KEY\"] = OPENAI_API_KEY"
   ]
  },
  {
   "cell_type": "code",
   "execution_count": 24,
   "id": "8e0ca0a3",
   "metadata": {},
   "outputs": [],
   "source": [
    "from langchain_pinecone import PineconeVectorStore\n",
    "\n",
    "docsearch = PineconeVectorStore.from_documents(\n",
    "    documents=text_chunks,\n",
    "    embedding=embeddings,\n",
    "    index_name=index_name\n",
    ")"
   ]
  },
  {
   "cell_type": "code",
   "execution_count": 26,
   "id": "102a07c9",
   "metadata": {},
   "outputs": [],
   "source": [
    "from langchain_pinecone import PineconeVectorStore\n",
    "docsearch = PineconeVectorStore.from_existing_index(\n",
    "    index_name=index_name,\n",
    "    embedding=embeddings\n",
    ")"
   ]
  },
  {
   "cell_type": "code",
   "execution_count": 27,
   "id": "46bce784",
   "metadata": {},
   "outputs": [
    {
     "data": {
      "text/plain": [
       "<langchain_pinecone.vectorstores.PineconeVectorStore at 0x111bb22c0>"
      ]
     },
     "execution_count": 27,
     "metadata": {},
     "output_type": "execute_result"
    }
   ],
   "source": [
    "docsearch"
   ]
  },
  {
   "cell_type": "code",
   "execution_count": 28,
   "id": "cf86278d",
   "metadata": {},
   "outputs": [],
   "source": [
    "retriever = docsearch.as_retriever(\n",
    "    search_type=\"similarity\",\n",
    "    search_kwargs={\"k\": 5}\n",
    ")"
   ]
  },
  {
   "cell_type": "code",
   "execution_count": 31,
   "id": "874f7569",
   "metadata": {},
   "outputs": [],
   "source": [
    "retriever_docs = retriever.invoke(\"What is the good firming?\")"
   ]
  },
  {
   "cell_type": "code",
   "execution_count": 32,
   "id": "531ddddd",
   "metadata": {},
   "outputs": [
    {
     "data": {
      "text/plain": [
       "[Document(id='c21db685-05c8-45c1-99d2-20ec62eb0864', metadata={'creationdate': '2016-08-02T15:15:17+05:30', 'creator': 'Adobe InDesign CS6 (Macintosh)', 'moddate': '2016-08-08T13:09:41+05:30', 'page': 173.0, 'page_label': '173', 'producer': 'Adobe PDF Library 10.0.1; modified using iTextSharp 5.1.3 (c) 1T3XT BVBA', 'source': 'Data/Agri2.pdf', 'title': '', 'total_pages': 1105.0}, page_content='easy root elongation and seedling emergence. The seedbed \\nshould also be relatively free of large clods between which \\nsmall seeds could fall and become lodged without sufficient \\nsoil contact for germination \\nand too deeply for proper \\nemergence.\\nTillage is commonly \\nused to loosen compacted \\nsoil, help control weeds, and, \\nin cool climates, help the soil \\ndry out so it will warm more \\nrapidly. On the other hand, \\nthe objectives of seedbed \\npreparation may be achieved'),\n",
       " Document(id='02538aae-5ea7-4d9b-adb3-a6afbe107aea', metadata={'creationdate': '2016-08-02T15:15:17+05:30', 'creator': 'Adobe InDesign CS6 (Macintosh)', 'moddate': '2016-08-08T13:09:41+05:30', 'page': 173.0, 'page_label': '173', 'producer': 'Adobe PDF Library 10.0.1; modified using iTextSharp 5.1.3 (c) 1T3XT BVBA', 'source': 'Data/Agri2.pdf', 'title': '', 'total_pages': 1105.0}, page_content='box 4. 5\\nPreParing a gooD See DbeD\\nEarly in the growing season, one of the main activities of a farmer \\nor gardener is the preparation of a good seedbed to ensure that \\nthe sowing operation goes smoothly, that the seeds germinate \\nquickly, and that the plants come up well spaced.\\nA good seedbed should be packed firmly enough to ensure \\nthe seed can easily imbibe water to begin the germination pro -\\ncess. The seedbed soil should also be loose enough to allow'),\n",
       " Document(id='248af587-f3da-42c6-be0f-7b9bf0624d18', metadata={'creationdate': '2016-08-02T15:15:17+05:30', 'creator': 'Adobe InDesign CS6 (Macintosh)', 'moddate': '2016-08-08T13:09:41+05:30', 'page': 160.0, 'page_label': '160', 'producer': 'Adobe PDF Library 10.0.1; modified using iTextSharp 5.1.3 (c) 1T3XT BVBA', 'source': 'Data/Agri2.pdf', 'title': '', 'total_pages': 1105.0}, page_content='deformation. A soil with a significant content of sand feels rough and gritty, and \\nmakes a grinding noise when rubbed near one’s ear.\\nGet a feel for the amount of clay by attempting to squeeze a ball of properly \\nmoistened soil between your thumb and the side of your forefinger, making a rib-\\nbon of soil. Squeeze out the ribbon little by little, making it as long as possible \\nuntil it breaks from its own weight (see Figure 4.15). Interpret your observations \\nas indicated in Figure 4.16.'),\n",
       " Document(id='3c86f764-5fed-4cb7-a210-527999b85cc9', metadata={'creationdate': '2016-08-02T15:15:17+05:30', 'creator': 'Adobe InDesign CS6 (Macintosh)', 'moddate': '2016-08-08T13:09:41+05:30', 'page': 1080.0, 'page_label': '1080', 'producer': 'Adobe PDF Library 10.0.1; modified using iTextSharp 5.1.3 (c) 1T3XT BVBA', 'source': 'Data/Agri2.pdf', 'title': '', 'total_pages': 1105.0}, page_content='30 cm thick.\\nmineralization The conversion of an ele-\\nment from an organic form to an inorganic \\nstate as a result of microbial decomposition.\\nminimum tillage See tillage, conservation.\\nminor element (Obsolete) See micronutrient.\\nmoderately coarse texture Consisting \\npredominantly of coarse particles. In soil tex-\\ntural classification, it includes all the sandy \\nloams except the very fine sandy loam. See also \\ncoarse texture.\\nmoderately fine texture Consisting pre-'),\n",
       " Document(id='50ba9018-a30b-456e-b359-1f78cfa7570d', metadata={'creationdate': '2016-08-02T15:15:17+05:30', 'creator': 'Adobe InDesign CS6 (Macintosh)', 'moddate': '2016-08-08T13:09:41+05:30', 'page': 390.0, 'page_label': '390', 'producer': 'Adobe PDF Library 10.0.1; modified using iTextSharp 5.1.3 (c) 1T3XT BVBA', 'source': 'Data/Agri2.pdf', 'title': '', 'total_pages': 1105.0}, page_content='least desired if one were interested in (1) a good founda-\\ntion for a building, (2) a high cation exchange capacity, \\n(3) an adequate source of potassium, and (4) a soil on \\nwhich hard clods form after plowing?\\n7. Which of the following would you expect to be most and \\nleast sticky and plastic when wet: (1) a soil with signifi-\\ncant sodium saturation in a semiarid area, (2) a soil high \\nin exchangeable calcium in a subhumid temperate area,')]"
      ]
     },
     "execution_count": 32,
     "metadata": {},
     "output_type": "execute_result"
    }
   ],
   "source": [
    "retriever_docs"
   ]
  },
  {
   "cell_type": "code",
   "execution_count": null,
   "id": "2661132c",
   "metadata": {},
   "outputs": [],
   "source": [
    "from langchain_openai import OpenAI\n",
    "llm = OpenAI(model=\"gpt-4o-mini\",max_tokens=500, temperature=0.4)"
   ]
  },
  {
   "cell_type": "code",
   "execution_count": null,
   "id": "56c2448c",
   "metadata": {},
   "outputs": [],
   "source": [
    "from langchain.chains import create_retrieval_chain\n",
    "from langchain.chains.combine_documents import create_stuff_documents_chain\n",
    "from langchain_core.prompts import ChatPromptTemplate\n",
    "system_prompt = (\n",
    "    '''You are an agricultural assistant. You use an English knowledge base, but you must always respond in Bangla.\n",
    "Your task is to help Bangladeshi farmers by answering only based on the knowledge base.\n",
    "If the answer is not available, say:\n",
    "\"দুঃখিত, এই বিষয়ে আমার কাছে কোনো নির্ভরযোগ্য তথ্য নেই।\"\n",
    "Be simple, clear, and friendly. Explain complex terms in easy Bangla.\n",
    "Never guess or make up answers.\n",
    "{context}\n",
    "'''\n",
    "\n",
    ")\n",
    "prompt = ChatPromptTemplate.from_messages(\n",
    "    [\n",
    "        (\"system\", system_prompt),\n",
    "        (\"human\", \"{input}\"),\n",
    "    ]\n",
    ")\n"
   ]
  },
  {
   "cell_type": "code",
   "execution_count": 86,
   "id": "76727e60",
   "metadata": {},
   "outputs": [],
   "source": [
    "question_answer_chain = create_stuff_documents_chain(llm,prompt)\n",
    "rag_chain = create_retrieval_chain(retriever, question_answer_chain)"
   ]
  },
  {
   "cell_type": "code",
   "execution_count": 89,
   "id": "bc74de6e",
   "metadata": {},
   "outputs": [
    {
     "name": "stdout",
     "output_type": "stream",
     "text": [
      " \n",
      "Assistant: দু��খিত, এই বিষয়ে আমার কাছে কোনো নির্ভরযোগ্য তথ্য নেই।\n"
     ]
    }
   ],
   "source": [
    "response = rag_chain.invoke({\"input\": \"What is the stat acne?\"})\n",
    "print(response['answer'])"
   ]
  }
 ],
 "metadata": {
  "kernelspec": {
   "display_name": "langgolbot",
   "language": "python",
   "name": "python3"
  },
  "language_info": {
   "codemirror_mode": {
    "name": "ipython",
    "version": 3
   },
   "file_extension": ".py",
   "mimetype": "text/x-python",
   "name": "python",
   "nbconvert_exporter": "python",
   "pygments_lexer": "ipython3",
   "version": "3.10.16"
  }
 },
 "nbformat": 4,
 "nbformat_minor": 5
}
